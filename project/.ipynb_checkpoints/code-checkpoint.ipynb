{
 "cells": [
  {
   "cell_type": "code",
   "execution_count": 1,
   "metadata": {},
   "outputs": [],
   "source": [
    "import numpy as np\n",
    "import matplotlib.pyplot as plt\n",
    "import random\n",
    "random.seed(2)\n",
    "import copy\n",
    "import math\n",
    "import multiprocessing as mp\n",
    "from multiprocessing import Manager, Pool\n",
    "import functools"
   ]
  },
  {
   "cell_type": "markdown",
   "metadata": {},
   "source": [
    "# Q1"
   ]
  },
  {
   "cell_type": "code",
   "execution_count": 2,
   "metadata": {},
   "outputs": [],
   "source": [
    "N = 108\n",
    "L_x = L_y = L_z = 18\n",
    "sigma = 3.4\n",
    "L = np.array([L_x, L_y, L_z])"
   ]
  },
  {
   "cell_type": "code",
   "execution_count": 3,
   "metadata": {},
   "outputs": [],
   "source": [
    "def distance(coord_1, coord_2):\n",
    "    r = (coord_2 - coord_1) - L * np.round((coord_2 - coord_1) / L)\n",
    "    return np.sqrt(np.sum(r ** 2, axis=0))"
   ]
  },
  {
   "cell_type": "code",
   "execution_count": 4,
   "metadata": {},
   "outputs": [],
   "source": [
    "def initial_config(N, L_x, L_y, L_z, sigma):\n",
    "    configuration = []\n",
    "    num_iter = 0\n",
    "    count = 0\n",
    "    while count < N:\n",
    "        num_iter += 1\n",
    "        if num_iter >= 10000:\n",
    "            configuration = []\n",
    "            num_iter = 0\n",
    "            count = 0\n",
    "\n",
    "        coord = np.array([np.random.uniform(0, L_x), np.random.uniform(0, L_y), np.random.uniform(0, L_z)])\n",
    "\n",
    "        flag = 1\n",
    "        for mol in configuration:\n",
    "            if distance(coord, mol) < sigma:\n",
    "                flag = 0\n",
    "                break\n",
    "\n",
    "        if flag:\n",
    "            num_iter = 0\n",
    "            configuration.append(coord)\n",
    "            count += 1\n",
    "    return np.array(configuration)"
   ]
  },
  {
   "cell_type": "code",
   "execution_count": 5,
   "metadata": {},
   "outputs": [],
   "source": [
    "def create_config(N, L_x, L_y, L_z, sigma, file_name):\n",
    "    config = initial_config(N, L_x, L_y, L_z, sigma)\n",
    "    with open(file_name, 'w') as f:\n",
    "        f.write(f\"{N}\\n\")\n",
    "        f.write(\"#comment initial random config\\n\")\n",
    "        for coord in config:\n",
    "            f.write(f\"C {coord[0]} {coord[1]} {coord[2]}\\n\")"
   ]
  },
  {
   "cell_type": "raw",
   "metadata": {},
   "source": [
    "create_config(N, L_x, L_y, L_z, sigma, \"config1.xyz\")"
   ]
  },
  {
   "cell_type": "markdown",
   "metadata": {},
   "source": [
    "# Q2"
   ]
  },
  {
   "cell_type": "code",
   "execution_count": 6,
   "metadata": {},
   "outputs": [],
   "source": [
    "epsilon = 0.238"
   ]
  },
  {
   "cell_type": "code",
   "execution_count": 7,
   "metadata": {},
   "outputs": [],
   "source": [
    "def read_config(file_name):\n",
    "    config = []\n",
    "    with open(file_name) as f:\n",
    "        data = f.read().split('\\n')\n",
    "        N = data[0]\n",
    "        for row in data[2 : -1]:\n",
    "            row = row.split(' ')\n",
    "            config.append(np.array([float(row[1]), float(row[2]), float(row[3])]))\n",
    "    return np.array(config)"
   ]
  },
  {
   "cell_type": "code",
   "execution_count": 8,
   "metadata": {},
   "outputs": [],
   "source": [
    "def potential_pair(coord_1, coord_2, epsilon, sigma):\n",
    "    r = (coord_2 - coord_1) - L * np.round((coord_2 - coord_1) / L)\n",
    "    r_12 = np.sqrt(np.sum(r ** 2, axis=0))\n",
    "    potential = 4 * epsilon * ((sigma / r_12) ** 12 - (sigma / r_12) ** 6)\n",
    "    return potential"
   ]
  },
  {
   "cell_type": "code",
   "execution_count": 9,
   "metadata": {},
   "outputs": [],
   "source": [
    "def potential_energy(config, epsilon=epsilon, sigma=sigma):\n",
    "    total_energy = 0\n",
    "    for i in range(config.shape[0]):\n",
    "        for j in range(i + 1, config.shape[0]):\n",
    "            total_energy += potential_pair(config[i], config[j], epsilon, sigma)\n",
    "    return total_energy"
   ]
  },
  {
   "cell_type": "code",
   "execution_count": 10,
   "metadata": {},
   "outputs": [
    {
     "data": {
      "text/plain": [
       "-124.54543403057832"
      ]
     },
     "execution_count": 10,
     "metadata": {},
     "output_type": "execute_result"
    }
   ],
   "source": [
    "config = read_config('config.xyz')\n",
    "potential_energy(config)"
   ]
  },
  {
   "cell_type": "code",
   "execution_count": 11,
   "metadata": {},
   "outputs": [
    {
     "name": "stdout",
     "output_type": "stream",
     "text": [
      "(108, 3)\n"
     ]
    }
   ],
   "source": [
    "print(config.shape)"
   ]
  },
  {
   "cell_type": "markdown",
   "metadata": {},
   "source": [
    "# Q3"
   ]
  },
  {
   "cell_type": "code",
   "execution_count": 12,
   "metadata": {},
   "outputs": [],
   "source": [
    "def force_pair(coord_1, coord_2):\n",
    "    r = (coord_1 - coord_2) - L * np.round((coord_1 - coord_2) / L)\n",
    "    r_12 = np.sqrt(np.sum(r ** 2))\n",
    "    force_mag = 0.01 * np.abs(- 4 * epsilon * ((-12) * (sigma / r_12) ** 12 - (-6) * (sigma / r_12) ** 6) / r_12)\n",
    "    force_vector = force_mag * (r) / r_12\n",
    "    return force_vector"
   ]
  },
  {
   "cell_type": "code",
   "execution_count": 13,
   "metadata": {},
   "outputs": [],
   "source": [
    "def write_config(file_name, new_config):\n",
    "    with open(file_name, 'w') as f:\n",
    "        f.write(f\"{new_config.shape[0]}\\n\")\n",
    "        f.write(\"#comment initial random config\\n\")\n",
    "        for coord in new_config:\n",
    "            f.write(f\"C {coord[0]} {coord[1]} {coord[2]}\\n\")"
   ]
  },
  {
   "cell_type": "code",
   "execution_count": 14,
   "metadata": {},
   "outputs": [],
   "source": [
    "# def minimize_potential(file_name, sigma, epsilon, num_iter):\n",
    "#     initial_config = read_config(file_name)\n",
    "#     U_old = potential_energy(epsilon, sigma, initial_config)\n",
    "#     U_time = []\n",
    "#     forces = []\n",
    "#     config = copy.deepcopy(initial_config)\n",
    "#     for temp in range(1, num_iter):\n",
    "#         U_time.append(U_old)\n",
    "#         temp_config = copy.deepcopy(config)\n",
    "#         force_pairs = np.zeros((config.shape))\n",
    "#         for i in range(temp_config.shape[0]):\n",
    "#             for j in range(i + 1, temp_config.shape[0]):\n",
    "#                 if distance(temp_config[i], temp_config[j]) > 0:\n",
    "#                     force_ij = force_pair(temp_config[i], temp_config[j])\n",
    "#                     force_pairs[i] += force_ij\n",
    "#                     force_pairs[j] += -force_ij\n",
    "        \n",
    "#         net_force = 0\n",
    "#         for i in range(force_pairs.shape[0]):\n",
    "#             temp_config[i] += force_pairs[i]\n",
    "#             net_force += np.linalg.norm(force_pairs[i])\n",
    "#             temp_config[i] = temp_config[i] - L * np.round(temp_config[i] / L)\n",
    "            \n",
    "#         U_new = potential_energy(epsilon, sigma, temp_config)\n",
    "#         forces.append(net_force)\n",
    "#         if U_new < U_old:\n",
    "#             U_old = U_new\n",
    "#             config = copy.deepcopy(temp_config)\n",
    "#         else:\n",
    "#             is_accept = math.exp((U_old - U_new) / temp)\n",
    "#             if is_accept >= random.random():\n",
    "#                 U_old = U_new\n",
    "#                 config = temp_config.copy()\n",
    "        \n",
    "#     plt.title(\"Potential vs Time\")\n",
    "#     plt.xlabel(\"Time\")\n",
    "#     plt.ylabel(\"Potential Energy\")\n",
    "#     plt.plot(U_time)\n",
    "#     plt.show()\n",
    "    \n",
    "#     plt.title(\"Force vs Time\")\n",
    "#     plt.xlabel(\"Time\")\n",
    "#     plt.ylabel(\"Force\")\n",
    "#     plt.plot(forces)\n",
    "#     plt.show()\n",
    "#     write_config('new_config.xyz', config)\n",
    "#     return config, np.array(U_time)"
   ]
  },
  {
   "cell_type": "code",
   "execution_count": 15,
   "metadata": {},
   "outputs": [],
   "source": [
    "def minimize_potential(file_name, sigma, epsilon, num_iter):\n",
    "    initial_config = read_config(file_name)\n",
    "    U_old = potential_energy(initial_config)\n",
    "    U_time = []\n",
    "    forces = []\n",
    "    config = copy.deepcopy(initial_config)\n",
    "    for temp in range(num_iter):\n",
    "        U_time.append(U_old)\n",
    "        force_pairs = np.zeros((config.shape))\n",
    "        for i in range(config.shape[0]):\n",
    "            for j in range(i + 1, config.shape[0]):\n",
    "                force_ij = force_pair(config[i], config[j])\n",
    "                force_pairs[i] += force_ij\n",
    "                force_pairs[j] += -force_ij\n",
    "        \n",
    "        net_force = 0\n",
    "        for i in range(force_pairs.shape[0]):\n",
    "            config[i] += force_pairs[i]\n",
    "            net_force += np.linalg.norm(force_pairs[i])\n",
    "            \n",
    "        U_old = potential_energy(config)\n",
    "        forces.append(net_force)\n",
    "        if net_force <= 0.01:\n",
    "            break\n",
    "        \n",
    "    plt.title(\"Potential vs Time\")\n",
    "    plt.xlabel(\"Time\")\n",
    "    plt.ylabel(\"Potential Energy\")\n",
    "    plt.plot(U_time)\n",
    "    plt.show()\n",
    "    \n",
    "    plt.title(\"Force vs Time\")\n",
    "    plt.xlabel(\"Time\")\n",
    "    plt.ylabel(\"Force\")\n",
    "    plt.plot(forces)\n",
    "    plt.show()\n",
    "    write_config('new_config.xyz', config)\n",
    "    return config, np.array(U_time)"
   ]
  },
  {
   "cell_type": "code",
   "execution_count": 16,
   "metadata": {},
   "outputs": [
    {
     "data": {
      "image/png": "[encoded data removed]",
      "text/plain": [
       "<Figure size 432x288 with 1 Axes>"
      ]
     },
     "metadata": {
      "needs_background": "light"
     },
     "output_type": "display_data"
    },
    {
     "data": {
      "image/png": "[encoded data removed]",
      "text/plain": [
       "<Figure size 432x288 with 1 Axes>"
      ]
     },
     "metadata": {
      "needs_background": "light"
     },
     "output_type": "display_data"
    }
   ],
   "source": [
    "new_config, U_vs_Time = minimize_potential('config.xyz', sigma, epsilon, 125)"
   ]
  },
  {
   "cell_type": "code",
   "execution_count": 17,
   "metadata": {},
   "outputs": [
    {
     "data": {
      "text/plain": [
       "-135.44620044925642"
      ]
     },
     "execution_count": 17,
     "metadata": {},
     "output_type": "execute_result"
    }
   ],
   "source": [
    "U_vs_Time.min()"
   ]
  },
  {
   "cell_type": "markdown",
   "metadata": {},
   "source": [
    "# Q4"
   ]
  },
  {
   "cell_type": "code",
   "execution_count": 21,
   "metadata": {},
   "outputs": [],
   "source": [
    "# def energy_map(config, h):\n",
    "#     energy_dist = {}\n",
    "#     energy_dist[(0, 0, 0, 0)] = potential_energy(config)\n",
    "#     for i in range(3 * config.shape[0]):\n",
    "#         q = i // 3\n",
    "#         r = i % 3\n",
    "#         temp_config = copy.deepcopy(config)\n",
    "#         temp_config[q][r] = temp_config[q][r] + h\n",
    "#         energy_dist[(i, 1, 0, 0)] = potential_energy(temp_config)\n",
    "#         temp_config[q][r] = temp_config[q][r] - 2 * h\n",
    "#         energy_dist[(i, -1, 0, 0)] = potential_energy(temp_config)\n",
    "#         temp_config[q][r] = temp_config[q][r] + h\n",
    "#         for j in range(i):\n",
    "#             q_j = j // 3\n",
    "#             q_r = j % 3\n",
    "#             print(\"Var: \", i, j)\n",
    "#             temp_config[q][r] = temp_config[q][r] + h\n",
    "#             temp_config[q_j][q_r] = temp_config[q_j][q_r] + h\n",
    "#             energy_dist[(i, 1, j, 1)] = potential_energy(temp_config)\n",
    "#             temp_config[q][r] = temp_config[q][r] - 2 * h\n",
    "#             temp_config[q_j][q_r] = temp_config[q_j][q_r] - 2 * h\n",
    "#             energy_dist[(i, -1, j, -1)] = potential_energy(temp_config)\n",
    "#             temp_config[q][r] = temp_config[q][r] + h\n",
    "#             temp_config[q_j][q_r] = temp_config[q_j][q_r] + h\n",
    "            \n",
    "#     return energy_dist"
   ]
  },
  {
   "cell_type": "code",
   "execution_count": 23,
   "metadata": {},
   "outputs": [],
   "source": [
    "new_config = read_config('new_config.xyz')"
   ]
  },
  {
   "cell_type": "code",
   "execution_count": 24,
   "metadata": {},
   "outputs": [],
   "source": [
    "def parallel(i, energy_dict, h):\n",
    "    temp_config = copy.deepcopy(new_config)\n",
    "    print(i)\n",
    "    q = i // 3\n",
    "    r = i % 3\n",
    "    temp_config[q][r] = temp_config[q][r] + h\n",
    "    energy_dict[(i, 1, 0, 0)] = potential_energy(temp_config)\n",
    "    temp_config[q][r] = temp_config[q][r] - 2 * h\n",
    "    energy_dict[(i, -1, 0, 0)] = potential_energy(temp_config)\n",
    "    temp_config[q][r] = temp_config[q][r] + h\n",
    "    for j in range(i):\n",
    "        q_j = j // 3\n",
    "        q_r = j % 3\n",
    "        temp_config[q][r] = temp_config[q][r] + h\n",
    "        temp_config[q_j][q_r] = temp_config[q_j][q_r] + h\n",
    "        energy_dict[(i, 1, j, 1)] = potential_energy(temp_config)\n",
    "        temp_config[q][r] = temp_config[q][r] - 2 * h\n",
    "        temp_config[q_j][q_r] = temp_config[q_j][q_r] - 2 * h\n",
    "        energy_dict[(i, -1, j, -1)] = potential_energy(temp_config)\n",
    "        temp_config[q][r] = temp_config[q][r] + h\n",
    "        temp_config[q_j][q_r] = temp_config[q_j][q_r] + h"
   ]
  },
  {
   "cell_type": "code",
   "execution_count": 25,
   "metadata": {},
   "outputs": [],
   "source": [
    "def energy_map(config, h):\n",
    "    energy = {}\n",
    "    energy[(0, 0, 0, 0)] = potential_energy(config)\n",
    "    temp_config = copy.deepcopy(config)        \n",
    "    print(\"START POOLING\")\n",
    "    pool = Pool()\n",
    "    energy_dict = Manager().dict()\n",
    "    var_arr = [i for i in range(3 * config.shape[0])]\n",
    "    pool.map(functools.partial(parallel, energy_dict=energy_dict, h=h), var_arr)\n",
    "    pool.close()\n",
    "    pool.join()\n",
    "    energy.update(energy_dict)\n",
    "    return energy"
   ]
  },
  {
   "cell_type": "code",
   "execution_count": 26,
   "metadata": {},
   "outputs": [
    {
     "name": "stdout",
     "output_type": "stream",
     "text": [
      "START POOLING\n",
      "0334411\n",
      "\n",
      "22\n",
      "\n",
      "5577\n",
      "\n",
      "\n",
      "66\n",
      "1\n",
      "2\n",
      "3\n",
      "4\n",
      "12\n",
      "5\n",
      "6\n",
      "23\n",
      "13\n",
      "7\n",
      "34\n",
      "8\n",
      "14\n",
      "45\n",
      "9\n",
      "24\n",
      "15\n",
      "10\n",
      "56\n",
      "88\n",
      "67\n",
      "35\n",
      "16\n",
      "25\n",
      "78\n",
      "17\n",
      "46\n",
      "26\n",
      "36\n",
      "18\n",
      "57\n",
      "27\n",
      "19\n",
      "68\n",
      "47\n",
      "37\n",
      "20\n",
      "28\n",
      "89\n",
      "79\n",
      "21\n",
      "58\n",
      "38\n",
      "29\n",
      "48\n",
      "99\n",
      "69\n",
      "30\n",
      "39\n",
      "59\n",
      "49\n",
      "80\n",
      "31\n",
      "90\n",
      "40\n",
      "32\n",
      "70\n",
      "50\n",
      "100\n",
      "60\n",
      "41\n",
      "110\n",
      "81\n",
      "91\n",
      "51\n",
      "42\n",
      "71\n",
      "61\n",
      "43\n",
      "52\n",
      "101\n",
      "82\n",
      "62\n",
      "72\n",
      "111\n",
      "92\n",
      "121\n",
      "53\n",
      "63\n",
      "83\n",
      "73\n",
      "54\n",
      "102\n",
      "93\n",
      "112\n",
      "64\n",
      "132\n",
      "122\n",
      "74\n",
      "84\n",
      "103\n",
      "65\n",
      "94\n",
      "75\n",
      "113\n",
      "85\n",
      "123\n",
      "143\n",
      "133\n",
      "104\n",
      "95\n",
      "76\n",
      "86\n",
      "114\n",
      "154\n",
      "124\n",
      "96\n",
      "105\n",
      "134\n",
      "144\n",
      "87\n",
      "115\n",
      "97\n",
      "165\n",
      "106\n",
      "125\n",
      "155\n",
      "135\n",
      "145\n",
      "116\n",
      "98\n",
      "107\n",
      "126\n",
      "166\n",
      "136\n",
      "176\n",
      "156\n",
      "117\n",
      "146\n",
      "108\n",
      "127\n",
      "137\n",
      "118\n",
      "109\n",
      "167\n",
      "157\n",
      "147\n",
      "177\n",
      "128\n",
      "119\n",
      "187\n",
      "138\n",
      "148\n",
      "168\n",
      "158\n",
      "129\n",
      "178\n",
      "120\n",
      "139\n",
      "188\n",
      "130\n",
      "149\n",
      "159\n",
      "198\n",
      "169\n",
      "179\n",
      "140\n",
      "131\n",
      "150\n",
      "189\n",
      "160\n",
      "170\n",
      "199\n",
      "141\n",
      "180\n",
      "209\n",
      "151\n",
      "161\n",
      "190\n",
      "142\n",
      "171\n",
      "200\n",
      "181\n",
      "152\n",
      "210\n",
      "162\n",
      "220\n",
      "172\n",
      "191\n",
      "182\n",
      "153\n",
      "201\n",
      "163\n",
      "211\n",
      "173\n",
      "221\n",
      "192\n",
      "231\n",
      "183\n",
      "202\n",
      "164\n",
      "174\n",
      "212\n",
      "193\n",
      "222\n",
      "184\n",
      "232\n",
      "242\n",
      "203\n",
      "175\n",
      "213\n",
      "194\n",
      "185\n",
      "223\n",
      "233\n",
      "204\n",
      "253\n",
      "243\n",
      "195\n",
      "214\n",
      "186\n",
      "224\n",
      "205\n",
      "234\n",
      "244\n",
      "254\n",
      "196\n",
      "264\n",
      "215\n",
      "225\n",
      "206\n",
      "235\n",
      "197\n",
      "245\n",
      "255\n",
      "216\n",
      "265\n",
      "226\n",
      "207\n",
      "275\n",
      "236\n",
      "217\n",
      "246\n",
      "256\n",
      "208\n",
      "266\n",
      "227\n",
      "237\n",
      "276\n",
      "218\n",
      "247\n",
      "286\n",
      "257\n",
      "228\n",
      "267\n",
      "219\n",
      "238\n",
      "277\n",
      "248\n",
      "229\n",
      "258\n",
      "287\n",
      "268\n",
      "297\n",
      "239\n",
      "249\n",
      "278\n",
      "230\n",
      "259\n",
      "288\n",
      "269\n",
      "240\n",
      "298\n",
      "250\n",
      "308\n",
      "279\n",
      "260\n",
      "270\n",
      "289\n",
      "241\n",
      "299\n",
      "251\n",
      "309\n",
      "280\n",
      "261\n",
      "319\n",
      "271\n",
      "290\n",
      "252\n",
      "300\n",
      "262\n",
      "281\n",
      "310\n",
      "272\n",
      "320\n",
      "291\n",
      "301\n",
      "263\n",
      "282\n",
      "311\n",
      "273\n",
      "292\n",
      "321\n",
      "283\n",
      "302\n",
      "274\n",
      "312\n",
      "322\n",
      "293\n",
      "284\n",
      "303\n",
      "323\n",
      "294\n",
      "313\n",
      "285\n",
      "304\n",
      "295\n",
      "314\n",
      "305\n",
      "296\n",
      "315\n",
      "306\n",
      "316\n",
      "307\n",
      "317\n",
      "318\n"
     ]
    }
   ],
   "source": [
    "energy_dist = energy_map(new_config, 0.005)"
   ]
  },
  {
   "cell_type": "code",
   "execution_count": 27,
   "metadata": {},
   "outputs": [],
   "source": [
    "with open('energy.txt', 'w') as f:\n",
    "    for k, v in energy_dist.items():\n",
    "        print(f\"{k} {v}\", file = f)"
   ]
  },
  {
   "cell_type": "code",
   "execution_count": 37,
   "metadata": {},
   "outputs": [],
   "source": [
    "def calc_Hessian(energy_dist, N, h = 0.005):\n",
    "    hessian = np.zeros((3 * N, 3 * N))\n",
    "    for i in range(3 * N):\n",
    "        hessian[i][i] = (energy_dist[(i, 1, 0, 0)] + energy_dist[(i, -1, 0, 0)] - 2 * energy_dist[(0, 0, 0, 0)]) / (h ** 2)\n",
    "        for j in range(i):\n",
    "            hessian[i][j] = (energy_dist[(i, 1, j, 1)] + energy_dist[(i, -1, j, -1)] - energy_dist[(i, 1, 0, 0)] - energy_dist[(i, -1, 0, 0)] - energy_dist[(j, 1, 0, 0)] - energy_dist[(j, -1, 0, 0)] + 2 * energy_dist[(0, 0, 0, 0)]) / (2 * h ** 2)\n",
    "            hessian[j][i] = hessian[i][j]\n",
    "    \n",
    "    with open('hessian.dat', 'w') as f:\n",
    "        for i in range(3 * N):\n",
    "            for j in range(3 * N):\n",
    "                print(hessian[i][j], end = \" \", file = f)\n",
    "            print(\"\", file = f)\n",
    "        f.close()\n",
    "        \n",
    "    return hessian"
   ]
  },
  {
   "cell_type": "code",
   "execution_count": 38,
   "metadata": {},
   "outputs": [],
   "source": [
    "hessian = calc_Hessian(energy_dist, new_config.shape[0])"
   ]
  },
  {
   "cell_type": "code",
   "execution_count": 39,
   "metadata": {},
   "outputs": [
    {
     "data": {
      "text/plain": [
       "(324, 324)"
      ]
     },
     "execution_count": 39,
     "metadata": {},
     "output_type": "execute_result"
    }
   ],
   "source": [
    "hessian.shape"
   ]
  },
  {
   "cell_type": "markdown",
   "metadata": {},
   "source": [
    "# Q5"
   ]
  },
  {
   "cell_type": "code",
   "execution_count": 2,
   "metadata": {},
   "outputs": [],
   "source": [
    "def read_hessian(file_name, N):\n",
    "    with open(file_name) as f:\n",
    "        hessian = np.zeros((3 * N, 3 * N))\n",
    "        data = f.read().split(\"\\n\")\n",
    "        for i in range(len(data)):\n",
    "            row = data[i].split(\" \")[:-1]\n",
    "            for j in range(len(row)):\n",
    "                hessian[i][j] = float(row[j])\n",
    "    return hessian"
   ]
  },
  {
   "cell_type": "code",
   "execution_count": 3,
   "metadata": {},
   "outputs": [],
   "source": [
    "hessian = read_hessian('hessian.dat', 108)"
   ]
  },
  {
   "cell_type": "code",
   "execution_count": 4,
   "metadata": {},
   "outputs": [
    {
     "data": {
      "text/plain": [
       "(324, 324)"
      ]
     },
     "execution_count": 4,
     "metadata": {},
     "output_type": "execute_result"
    }
   ],
   "source": [
    "hessian.shape"
   ]
  },
  {
   "cell_type": "code",
   "execution_count": 5,
   "metadata": {},
   "outputs": [
    {
     "data": {
      "text/plain": [
       "array([[ 1.18786498e+00,  5.11743800e-01, -1.48500874e+00, ...,\n",
       "         2.51191068e-04, -5.52862502e-04,  4.55031568e-05],\n",
       "       [ 5.11743800e-01,  3.32181262e+00,  5.06585949e-01, ...,\n",
       "        -5.52862502e-04,  6.20924538e-04, -6.31973762e-05],\n",
       "       [-1.48500874e+00,  5.06585949e-01,  2.20105790e+00, ...,\n",
       "         4.55042937e-05, -6.31951025e-05, -1.41689043e-04],\n",
       "       ...,\n",
       "       [ 2.51191068e-04, -5.52862502e-04,  4.55042937e-05, ...,\n",
       "         3.15842949e+00,  8.93543237e-01,  1.25288473e+00],\n",
       "       [-5.52862502e-04,  6.20924538e-04, -6.31951025e-05, ...,\n",
       "         8.93543237e-01,  2.50605998e+00,  1.26713368e+00],\n",
       "       [ 4.55031568e-05, -6.31973762e-05, -1.41689043e-04, ...,\n",
       "         1.25288473e+00,  1.26713368e+00,  4.38928000e+00]])"
      ]
     },
     "execution_count": 5,
     "metadata": {},
     "output_type": "execute_result"
    }
   ],
   "source": [
    "hessian"
   ]
  },
  {
   "cell_type": "code",
   "execution_count": 9,
   "metadata": {},
   "outputs": [],
   "source": [
    "def make_histogram():\n",
    "    eigen_value = np.linalg.eigvals(hessian)\n",
    "    plt.figure(figsize=(20, 10))\n",
    "    plt.title(\"Vibrational Frequencies\")\n",
    "    plt.hist(eigen_value, bins=np.arange(int(eigen_value.min())-1, int(eigen_value.max() + 1) + 1), alpha = 0.7, ec = 'black')\n",
    "    plt.show()"
   ]
  },
  {
   "cell_type": "code",
   "execution_count": 10,
   "metadata": {},
   "outputs": [
    {
     "data": {
      "image/png": "[encoded data removed]",
      "text/plain": [
       "<Figure size 1440x720 with 1 Axes>"
      ]
     },
     "metadata": {
      "needs_background": "light"
     },
     "output_type": "display_data"
    }
   ],
   "source": [
    "make_histogram()"
   ]
  },
  {
   "cell_type": "code",
   "execution_count": null,
   "metadata": {},
   "outputs": [],
   "source": []
  }
 ],
 "metadata": {
  "kernelspec": {
   "display_name": "Python 3",
   "language": "python",
   "name": "python3"
  },
  "language_info": {
   "codemirror_mode": {
    "name": "ipython",
    "version": 3
   },
   "file_extension": ".py",
   "mimetype": "text/x-python",
   "name": "python",
   "nbconvert_exporter": "python",
   "pygments_lexer": "ipython3",
   "version": "3.8.5"
  }
 },
 "nbformat": 4,
 "nbformat_minor": 4
}
