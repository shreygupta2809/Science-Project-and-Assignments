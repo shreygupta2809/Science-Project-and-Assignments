{
 "cells": [
  {
   "cell_type": "code",
   "execution_count": 1,
   "metadata": {},
   "outputs": [],
   "source": [
    "atoms = []\n",
    "with open('starting_config_300k.pdb') as f:\n",
    "    data = f.read().split('\\n')\n",
    "    for line in data:\n",
    "        line = line.split()\n",
    "        if len(line) > 1:\n",
    "            atoms.append([line[2], float(line[4]), float(line[5]), float(line[6]), float(line[7])])\n",
    "\n",
    "with open('ICES.psf') as f:\n",
    "    data = f.read().split('\\n')\n",
    "    for i, line in enumerate(data):\n",
    "        if i >= 6 and i < 1302:\n",
    "            line = line.split()\n",
    "            atoms[i - 6].append(float(line[6]))"
   ]
  },
  {
   "cell_type": "code",
   "execution_count": 2,
   "metadata": {},
   "outputs": [
    {
     "name": "stdout",
     "output_type": "stream",
     "text": [
      "1296\n"
     ]
    }
   ],
   "source": [
    "print(len(atoms))"
   ]
  },
  {
   "cell_type": "code",
   "execution_count": 4,
   "metadata": {},
   "outputs": [
    {
     "name": "stdout",
     "output_type": "stream",
     "text": [
      "Electrostatic Potential:  -5671.727994399012\n",
      "Vanderwaal's Potential:  599.7631387966726\n",
      "Total Potential:  -5071.9648556023385\n"
     ]
    }
   ],
   "source": [
    "K = 332.1\n",
    "A = 582000.0\n",
    "B = 595.0\n",
    "L = [23.623, 22.406, 27.1759]\n",
    "electrostatic = 0\n",
    "van_der_wall = 0\n",
    "for i in range(len(atoms)):\n",
    "    for j in range(i + 1, len(atoms)):\n",
    "        if atoms[i][1] != atoms[j][1]:\n",
    "            r_x = (atoms[i][2]-atoms[j][2]) - L[0]*round((atoms[i][2]-atoms[j][2])/L[0])\n",
    "            r_y = (atoms[i][3]-atoms[j][3]) - L[1]*round((atoms[i][3]-atoms[j][3])/L[1])\n",
    "            r_z = (atoms[i][4]-atoms[j][4]) - L[2]*round((atoms[i][4]-atoms[j][4])/L[2])\n",
    "            r = r_x ** 2 + r_y ** 2 + r_z ** 2\n",
    "            electrostatic += (K * atoms[i][5] * atoms[j][5])/r\n",
    "            if atoms[i][0] == 'OH2' and atoms[j][0] == 'OH2':\n",
    "                van_der_wall += A / (r ** 6) - B / (r ** 3)\n",
    "        \n",
    "\n",
    "print(\"Electrostatic Potential: \", electrostatic)\n",
    "print(\"Vanderwaal's Potential: \", van_der_wall)\n",
    "print(\"Total Potential: \", electrostatic + van_der_wall)"
   ]
  },
  {
   "cell_type": "code",
   "execution_count": null,
   "metadata": {},
   "outputs": [],
   "source": []
  }
 ],
 "metadata": {
  "kernelspec": {
   "display_name": "Python 3",
   "language": "python",
   "name": "python3"
  },
  "language_info": {
   "codemirror_mode": {
    "name": "ipython",
    "version": 3
   },
   "file_extension": ".py",
   "mimetype": "text/x-python",
   "name": "python",
   "nbconvert_exporter": "python",
   "pygments_lexer": "ipython3",
   "version": "3.8.5"
  }
 },
 "nbformat": 4,
 "nbformat_minor": 4
}
